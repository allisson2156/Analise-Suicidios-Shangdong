{
  "nbformat": 4,
  "nbformat_minor": 0,
  "metadata": {
    "colab": {
      "provenance": [],
      "mount_file_id": "1PDHOjNu_0tFIBo0I3vHwnrBXd2dm2Iie",
      "authorship_tag": "ABX9TyMNkjdOysKeletI11hBKOGd"
    },
    "kernelspec": {
      "name": "python3",
      "display_name": "Python 3"
    },
    "language_info": {
      "name": "python"
    }
  },
  "cells": [
    {
      "cell_type": "code",
      "execution_count": 2,
      "metadata": {
        "id": "EjcmSGt3btJJ"
      },
      "outputs": [],
      "source": [
        "import pandas as pd \n",
        "import numpy as np \n",
        "import matplotlib.pyplot as plt \n",
        "import seaborn as sns\n",
        "%matplotlib inline"
      ]
    },
    {
      "cell_type": "code",
      "source": [
        "dfChina = pd.read_csv('SuicideChina.csv')"
      ],
      "metadata": {
        "id": "fkXC_roNdWMS"
      },
      "execution_count": 4,
      "outputs": []
    },
    {
      "cell_type": "code",
      "source": [
        "dfChina.head()"
      ],
      "metadata": {
        "colab": {
          "base_uri": "https://localhost:8080/",
          "height": 215
        },
        "id": "AZUHUah9e-rp",
        "outputId": "45418ea6-be0c-4b65-9c85-4dc50f782dc0"
      },
      "execution_count": 5,
      "outputs": [
        {
          "output_type": "execute_result",
          "data": {
            "text/plain": [
              "   Unnamed: 0  Person_ID Hospitalised Died Urban  Year  Month     Sex  Age  \\\n",
              "0           1          1          yes   no    no  2010     12  female   39   \n",
              "1           2          2           no  yes    no  2009      3    male   83   \n",
              "2           3          3           no  yes    no  2010      2    male   60   \n",
              "3           4          4           no  yes    no  2011      1    male   73   \n",
              "4           5          5          yes   no    no  2009      8    male   51   \n",
              "\n",
              "   Education Occupation        method  \n",
              "0  Secondary  household  Other poison  \n",
              "1    primary    farming       Hanging  \n",
              "2    primary    farming       Hanging  \n",
              "3    primary    farming       Hanging  \n",
              "4  Secondary    farming     Pesticide  "
            ],
            "text/html": [
              "\n",
              "  <div id=\"df-b4a2e905-a6a0-467e-b544-e5d7841e9309\">\n",
              "    <div class=\"colab-df-container\">\n",
              "      <div>\n",
              "<style scoped>\n",
              "    .dataframe tbody tr th:only-of-type {\n",
              "        vertical-align: middle;\n",
              "    }\n",
              "\n",
              "    .dataframe tbody tr th {\n",
              "        vertical-align: top;\n",
              "    }\n",
              "\n",
              "    .dataframe thead th {\n",
              "        text-align: right;\n",
              "    }\n",
              "</style>\n",
              "<table border=\"1\" class=\"dataframe\">\n",
              "  <thead>\n",
              "    <tr style=\"text-align: right;\">\n",
              "      <th></th>\n",
              "      <th>Unnamed: 0</th>\n",
              "      <th>Person_ID</th>\n",
              "      <th>Hospitalised</th>\n",
              "      <th>Died</th>\n",
              "      <th>Urban</th>\n",
              "      <th>Year</th>\n",
              "      <th>Month</th>\n",
              "      <th>Sex</th>\n",
              "      <th>Age</th>\n",
              "      <th>Education</th>\n",
              "      <th>Occupation</th>\n",
              "      <th>method</th>\n",
              "    </tr>\n",
              "  </thead>\n",
              "  <tbody>\n",
              "    <tr>\n",
              "      <th>0</th>\n",
              "      <td>1</td>\n",
              "      <td>1</td>\n",
              "      <td>yes</td>\n",
              "      <td>no</td>\n",
              "      <td>no</td>\n",
              "      <td>2010</td>\n",
              "      <td>12</td>\n",
              "      <td>female</td>\n",
              "      <td>39</td>\n",
              "      <td>Secondary</td>\n",
              "      <td>household</td>\n",
              "      <td>Other poison</td>\n",
              "    </tr>\n",
              "    <tr>\n",
              "      <th>1</th>\n",
              "      <td>2</td>\n",
              "      <td>2</td>\n",
              "      <td>no</td>\n",
              "      <td>yes</td>\n",
              "      <td>no</td>\n",
              "      <td>2009</td>\n",
              "      <td>3</td>\n",
              "      <td>male</td>\n",
              "      <td>83</td>\n",
              "      <td>primary</td>\n",
              "      <td>farming</td>\n",
              "      <td>Hanging</td>\n",
              "    </tr>\n",
              "    <tr>\n",
              "      <th>2</th>\n",
              "      <td>3</td>\n",
              "      <td>3</td>\n",
              "      <td>no</td>\n",
              "      <td>yes</td>\n",
              "      <td>no</td>\n",
              "      <td>2010</td>\n",
              "      <td>2</td>\n",
              "      <td>male</td>\n",
              "      <td>60</td>\n",
              "      <td>primary</td>\n",
              "      <td>farming</td>\n",
              "      <td>Hanging</td>\n",
              "    </tr>\n",
              "    <tr>\n",
              "      <th>3</th>\n",
              "      <td>4</td>\n",
              "      <td>4</td>\n",
              "      <td>no</td>\n",
              "      <td>yes</td>\n",
              "      <td>no</td>\n",
              "      <td>2011</td>\n",
              "      <td>1</td>\n",
              "      <td>male</td>\n",
              "      <td>73</td>\n",
              "      <td>primary</td>\n",
              "      <td>farming</td>\n",
              "      <td>Hanging</td>\n",
              "    </tr>\n",
              "    <tr>\n",
              "      <th>4</th>\n",
              "      <td>5</td>\n",
              "      <td>5</td>\n",
              "      <td>yes</td>\n",
              "      <td>no</td>\n",
              "      <td>no</td>\n",
              "      <td>2009</td>\n",
              "      <td>8</td>\n",
              "      <td>male</td>\n",
              "      <td>51</td>\n",
              "      <td>Secondary</td>\n",
              "      <td>farming</td>\n",
              "      <td>Pesticide</td>\n",
              "    </tr>\n",
              "  </tbody>\n",
              "</table>\n",
              "</div>\n",
              "      <button class=\"colab-df-convert\" onclick=\"convertToInteractive('df-b4a2e905-a6a0-467e-b544-e5d7841e9309')\"\n",
              "              title=\"Convert this dataframe to an interactive table.\"\n",
              "              style=\"display:none;\">\n",
              "        \n",
              "  <svg xmlns=\"http://www.w3.org/2000/svg\" height=\"24px\"viewBox=\"0 0 24 24\"\n",
              "       width=\"24px\">\n",
              "    <path d=\"M0 0h24v24H0V0z\" fill=\"none\"/>\n",
              "    <path d=\"M18.56 5.44l.94 2.06.94-2.06 2.06-.94-2.06-.94-.94-2.06-.94 2.06-2.06.94zm-11 1L8.5 8.5l.94-2.06 2.06-.94-2.06-.94L8.5 2.5l-.94 2.06-2.06.94zm10 10l.94 2.06.94-2.06 2.06-.94-2.06-.94-.94-2.06-.94 2.06-2.06.94z\"/><path d=\"M17.41 7.96l-1.37-1.37c-.4-.4-.92-.59-1.43-.59-.52 0-1.04.2-1.43.59L10.3 9.45l-7.72 7.72c-.78.78-.78 2.05 0 2.83L4 21.41c.39.39.9.59 1.41.59.51 0 1.02-.2 1.41-.59l7.78-7.78 2.81-2.81c.8-.78.8-2.07 0-2.86zM5.41 20L4 18.59l7.72-7.72 1.47 1.35L5.41 20z\"/>\n",
              "  </svg>\n",
              "      </button>\n",
              "      \n",
              "  <style>\n",
              "    .colab-df-container {\n",
              "      display:flex;\n",
              "      flex-wrap:wrap;\n",
              "      gap: 12px;\n",
              "    }\n",
              "\n",
              "    .colab-df-convert {\n",
              "      background-color: #E8F0FE;\n",
              "      border: none;\n",
              "      border-radius: 50%;\n",
              "      cursor: pointer;\n",
              "      display: none;\n",
              "      fill: #1967D2;\n",
              "      height: 32px;\n",
              "      padding: 0 0 0 0;\n",
              "      width: 32px;\n",
              "    }\n",
              "\n",
              "    .colab-df-convert:hover {\n",
              "      background-color: #E2EBFA;\n",
              "      box-shadow: 0px 1px 2px rgba(60, 64, 67, 0.3), 0px 1px 3px 1px rgba(60, 64, 67, 0.15);\n",
              "      fill: #174EA6;\n",
              "    }\n",
              "\n",
              "    [theme=dark] .colab-df-convert {\n",
              "      background-color: #3B4455;\n",
              "      fill: #D2E3FC;\n",
              "    }\n",
              "\n",
              "    [theme=dark] .colab-df-convert:hover {\n",
              "      background-color: #434B5C;\n",
              "      box-shadow: 0px 1px 3px 1px rgba(0, 0, 0, 0.15);\n",
              "      filter: drop-shadow(0px 1px 2px rgba(0, 0, 0, 0.3));\n",
              "      fill: #FFFFFF;\n",
              "    }\n",
              "  </style>\n",
              "\n",
              "      <script>\n",
              "        const buttonEl =\n",
              "          document.querySelector('#df-b4a2e905-a6a0-467e-b544-e5d7841e9309 button.colab-df-convert');\n",
              "        buttonEl.style.display =\n",
              "          google.colab.kernel.accessAllowed ? 'block' : 'none';\n",
              "\n",
              "        async function convertToInteractive(key) {\n",
              "          const element = document.querySelector('#df-b4a2e905-a6a0-467e-b544-e5d7841e9309');\n",
              "          const dataTable =\n",
              "            await google.colab.kernel.invokeFunction('convertToInteractive',\n",
              "                                                     [key], {});\n",
              "          if (!dataTable) return;\n",
              "\n",
              "          const docLinkHtml = 'Like what you see? Visit the ' +\n",
              "            '<a target=\"_blank\" href=https://colab.research.google.com/notebooks/data_table.ipynb>data table notebook</a>'\n",
              "            + ' to learn more about interactive tables.';\n",
              "          element.innerHTML = '';\n",
              "          dataTable['output_type'] = 'display_data';\n",
              "          await google.colab.output.renderOutput(dataTable, element);\n",
              "          const docLink = document.createElement('div');\n",
              "          docLink.innerHTML = docLinkHtml;\n",
              "          element.appendChild(docLink);\n",
              "        }\n",
              "      </script>\n",
              "    </div>\n",
              "  </div>\n",
              "  "
            ]
          },
          "metadata": {},
          "execution_count": 5
        }
      ]
    },
    {
      "cell_type": "code",
      "source": [
        "dfChina.info()"
      ],
      "metadata": {
        "colab": {
          "base_uri": "https://localhost:8080/"
        },
        "id": "9--zEF5kfCxH",
        "outputId": "a3479263-b5f1-4db3-eb67-90aabe5d9703"
      },
      "execution_count": 6,
      "outputs": [
        {
          "output_type": "stream",
          "name": "stdout",
          "text": [
            "<class 'pandas.core.frame.DataFrame'>\n",
            "RangeIndex: 2571 entries, 0 to 2570\n",
            "Data columns (total 12 columns):\n",
            " #   Column        Non-Null Count  Dtype \n",
            "---  ------        --------------  ----- \n",
            " 0   Unnamed: 0    2571 non-null   int64 \n",
            " 1   Person_ID     2571 non-null   int64 \n",
            " 2   Hospitalised  2571 non-null   object\n",
            " 3   Died          2571 non-null   object\n",
            " 4   Urban         2571 non-null   object\n",
            " 5   Year          2571 non-null   int64 \n",
            " 6   Month         2571 non-null   int64 \n",
            " 7   Sex           2571 non-null   object\n",
            " 8   Age           2571 non-null   int64 \n",
            " 9   Education     2571 non-null   object\n",
            " 10  Occupation    2571 non-null   object\n",
            " 11  method        2571 non-null   object\n",
            "dtypes: int64(5), object(7)\n",
            "memory usage: 241.2+ KB\n"
          ]
        }
      ]
    },
    {
      "cell_type": "code",
      "source": [
        "dfChina.describe()"
      ],
      "metadata": {
        "colab": {
          "base_uri": "https://localhost:8080/",
          "height": 300
        },
        "id": "INbI6BQafLu3",
        "outputId": "c1e9138e-9e4a-40de-cea4-589e52a1604c"
      },
      "execution_count": 7,
      "outputs": [
        {
          "output_type": "execute_result",
          "data": {
            "text/plain": [
              "        Unnamed: 0    Person_ID         Year        Month          Age\n",
              "count  2571.000000  2571.000000  2571.000000  2571.000000  2571.000000\n",
              "mean   1286.000000  1286.000000  2010.045508     6.298327    52.630883\n",
              "std     742.328095   742.328095     0.791412     3.202515    19.783878\n",
              "min       1.000000     1.000000  2009.000000     1.000000    12.000000\n",
              "25%     643.500000   643.500000  2009.000000     4.000000    37.000000\n",
              "50%    1286.000000  1286.000000  2010.000000     6.000000    53.000000\n",
              "75%    1928.500000  1928.500000  2011.000000     9.000000    69.000000\n",
              "max    2571.000000  2571.000000  2011.000000    12.000000   100.000000"
            ],
            "text/html": [
              "\n",
              "  <div id=\"df-dca8b499-f91f-4cfc-8f48-e4ef9f64dc98\">\n",
              "    <div class=\"colab-df-container\">\n",
              "      <div>\n",
              "<style scoped>\n",
              "    .dataframe tbody tr th:only-of-type {\n",
              "        vertical-align: middle;\n",
              "    }\n",
              "\n",
              "    .dataframe tbody tr th {\n",
              "        vertical-align: top;\n",
              "    }\n",
              "\n",
              "    .dataframe thead th {\n",
              "        text-align: right;\n",
              "    }\n",
              "</style>\n",
              "<table border=\"1\" class=\"dataframe\">\n",
              "  <thead>\n",
              "    <tr style=\"text-align: right;\">\n",
              "      <th></th>\n",
              "      <th>Unnamed: 0</th>\n",
              "      <th>Person_ID</th>\n",
              "      <th>Year</th>\n",
              "      <th>Month</th>\n",
              "      <th>Age</th>\n",
              "    </tr>\n",
              "  </thead>\n",
              "  <tbody>\n",
              "    <tr>\n",
              "      <th>count</th>\n",
              "      <td>2571.000000</td>\n",
              "      <td>2571.000000</td>\n",
              "      <td>2571.000000</td>\n",
              "      <td>2571.000000</td>\n",
              "      <td>2571.000000</td>\n",
              "    </tr>\n",
              "    <tr>\n",
              "      <th>mean</th>\n",
              "      <td>1286.000000</td>\n",
              "      <td>1286.000000</td>\n",
              "      <td>2010.045508</td>\n",
              "      <td>6.298327</td>\n",
              "      <td>52.630883</td>\n",
              "    </tr>\n",
              "    <tr>\n",
              "      <th>std</th>\n",
              "      <td>742.328095</td>\n",
              "      <td>742.328095</td>\n",
              "      <td>0.791412</td>\n",
              "      <td>3.202515</td>\n",
              "      <td>19.783878</td>\n",
              "    </tr>\n",
              "    <tr>\n",
              "      <th>min</th>\n",
              "      <td>1.000000</td>\n",
              "      <td>1.000000</td>\n",
              "      <td>2009.000000</td>\n",
              "      <td>1.000000</td>\n",
              "      <td>12.000000</td>\n",
              "    </tr>\n",
              "    <tr>\n",
              "      <th>25%</th>\n",
              "      <td>643.500000</td>\n",
              "      <td>643.500000</td>\n",
              "      <td>2009.000000</td>\n",
              "      <td>4.000000</td>\n",
              "      <td>37.000000</td>\n",
              "    </tr>\n",
              "    <tr>\n",
              "      <th>50%</th>\n",
              "      <td>1286.000000</td>\n",
              "      <td>1286.000000</td>\n",
              "      <td>2010.000000</td>\n",
              "      <td>6.000000</td>\n",
              "      <td>53.000000</td>\n",
              "    </tr>\n",
              "    <tr>\n",
              "      <th>75%</th>\n",
              "      <td>1928.500000</td>\n",
              "      <td>1928.500000</td>\n",
              "      <td>2011.000000</td>\n",
              "      <td>9.000000</td>\n",
              "      <td>69.000000</td>\n",
              "    </tr>\n",
              "    <tr>\n",
              "      <th>max</th>\n",
              "      <td>2571.000000</td>\n",
              "      <td>2571.000000</td>\n",
              "      <td>2011.000000</td>\n",
              "      <td>12.000000</td>\n",
              "      <td>100.000000</td>\n",
              "    </tr>\n",
              "  </tbody>\n",
              "</table>\n",
              "</div>\n",
              "      <button class=\"colab-df-convert\" onclick=\"convertToInteractive('df-dca8b499-f91f-4cfc-8f48-e4ef9f64dc98')\"\n",
              "              title=\"Convert this dataframe to an interactive table.\"\n",
              "              style=\"display:none;\">\n",
              "        \n",
              "  <svg xmlns=\"http://www.w3.org/2000/svg\" height=\"24px\"viewBox=\"0 0 24 24\"\n",
              "       width=\"24px\">\n",
              "    <path d=\"M0 0h24v24H0V0z\" fill=\"none\"/>\n",
              "    <path d=\"M18.56 5.44l.94 2.06.94-2.06 2.06-.94-2.06-.94-.94-2.06-.94 2.06-2.06.94zm-11 1L8.5 8.5l.94-2.06 2.06-.94-2.06-.94L8.5 2.5l-.94 2.06-2.06.94zm10 10l.94 2.06.94-2.06 2.06-.94-2.06-.94-.94-2.06-.94 2.06-2.06.94z\"/><path d=\"M17.41 7.96l-1.37-1.37c-.4-.4-.92-.59-1.43-.59-.52 0-1.04.2-1.43.59L10.3 9.45l-7.72 7.72c-.78.78-.78 2.05 0 2.83L4 21.41c.39.39.9.59 1.41.59.51 0 1.02-.2 1.41-.59l7.78-7.78 2.81-2.81c.8-.78.8-2.07 0-2.86zM5.41 20L4 18.59l7.72-7.72 1.47 1.35L5.41 20z\"/>\n",
              "  </svg>\n",
              "      </button>\n",
              "      \n",
              "  <style>\n",
              "    .colab-df-container {\n",
              "      display:flex;\n",
              "      flex-wrap:wrap;\n",
              "      gap: 12px;\n",
              "    }\n",
              "\n",
              "    .colab-df-convert {\n",
              "      background-color: #E8F0FE;\n",
              "      border: none;\n",
              "      border-radius: 50%;\n",
              "      cursor: pointer;\n",
              "      display: none;\n",
              "      fill: #1967D2;\n",
              "      height: 32px;\n",
              "      padding: 0 0 0 0;\n",
              "      width: 32px;\n",
              "    }\n",
              "\n",
              "    .colab-df-convert:hover {\n",
              "      background-color: #E2EBFA;\n",
              "      box-shadow: 0px 1px 2px rgba(60, 64, 67, 0.3), 0px 1px 3px 1px rgba(60, 64, 67, 0.15);\n",
              "      fill: #174EA6;\n",
              "    }\n",
              "\n",
              "    [theme=dark] .colab-df-convert {\n",
              "      background-color: #3B4455;\n",
              "      fill: #D2E3FC;\n",
              "    }\n",
              "\n",
              "    [theme=dark] .colab-df-convert:hover {\n",
              "      background-color: #434B5C;\n",
              "      box-shadow: 0px 1px 3px 1px rgba(0, 0, 0, 0.15);\n",
              "      filter: drop-shadow(0px 1px 2px rgba(0, 0, 0, 0.3));\n",
              "      fill: #FFFFFF;\n",
              "    }\n",
              "  </style>\n",
              "\n",
              "      <script>\n",
              "        const buttonEl =\n",
              "          document.querySelector('#df-dca8b499-f91f-4cfc-8f48-e4ef9f64dc98 button.colab-df-convert');\n",
              "        buttonEl.style.display =\n",
              "          google.colab.kernel.accessAllowed ? 'block' : 'none';\n",
              "\n",
              "        async function convertToInteractive(key) {\n",
              "          const element = document.querySelector('#df-dca8b499-f91f-4cfc-8f48-e4ef9f64dc98');\n",
              "          const dataTable =\n",
              "            await google.colab.kernel.invokeFunction('convertToInteractive',\n",
              "                                                     [key], {});\n",
              "          if (!dataTable) return;\n",
              "\n",
              "          const docLinkHtml = 'Like what you see? Visit the ' +\n",
              "            '<a target=\"_blank\" href=https://colab.research.google.com/notebooks/data_table.ipynb>data table notebook</a>'\n",
              "            + ' to learn more about interactive tables.';\n",
              "          element.innerHTML = '';\n",
              "          dataTable['output_type'] = 'display_data';\n",
              "          await google.colab.output.renderOutput(dataTable, element);\n",
              "          const docLink = document.createElement('div');\n",
              "          docLink.innerHTML = docLinkHtml;\n",
              "          element.appendChild(docLink);\n",
              "        }\n",
              "      </script>\n",
              "    </div>\n",
              "  </div>\n",
              "  "
            ]
          },
          "metadata": {},
          "execution_count": 7
        }
      ]
    },
    {
      "cell_type": "code",
      "source": [
        "#Número de vítimas que foram hospitalizadas \n",
        "dfChina['Hospitalised'].value_counts()"
      ],
      "metadata": {
        "colab": {
          "base_uri": "https://localhost:8080/"
        },
        "id": "qT1ZN7zcfZOQ",
        "outputId": "f7b83223-2bef-454d-ae63-719d7f997753"
      },
      "execution_count": 8,
      "outputs": [
        {
          "output_type": "execute_result",
          "data": {
            "text/plain": [
              "yes    1553\n",
              "no     1018\n",
              "Name: Hospitalised, dtype: int64"
            ]
          },
          "metadata": {},
          "execution_count": 8
        }
      ]
    },
    {
      "cell_type": "code",
      "source": [
        "#Número de vítimas que faleceram\n",
        "dfChina['Died'].value_counts()"
      ],
      "metadata": {
        "colab": {
          "base_uri": "https://localhost:8080/"
        },
        "id": "U-ts7k8UgurO",
        "outputId": "53229c50-bacf-472b-ec1c-58102233ed16"
      },
      "execution_count": 9,
      "outputs": [
        {
          "output_type": "execute_result",
          "data": {
            "text/plain": [
              "no     1315\n",
              "yes    1256\n",
              "Name: Died, dtype: int64"
            ]
          },
          "metadata": {},
          "execution_count": 9
        }
      ]
    },
    {
      "cell_type": "code",
      "source": [
        "#Grau de educação das vítimas\n",
        "dfChina['Education'].value_counts()"
      ],
      "metadata": {
        "colab": {
          "base_uri": "https://localhost:8080/"
        },
        "id": "ZasXTOnqhEhY",
        "outputId": "a0203593-e8c9-4f8b-a2f6-57113477ab83"
      },
      "execution_count": 10,
      "outputs": [
        {
          "output_type": "execute_result",
          "data": {
            "text/plain": [
              "Secondary    1280\n",
              "primary       659\n",
              "iliterate     533\n",
              "unknown        80\n",
              "Tertiary       19\n",
              "Name: Education, dtype: int64"
            ]
          },
          "metadata": {},
          "execution_count": 10
        }
      ]
    },
    {
      "cell_type": "code",
      "source": [
        "#As vítimas estavam em áreas urbanas?\n",
        "dfChina['Urban'].value_counts()"
      ],
      "metadata": {
        "colab": {
          "base_uri": "https://localhost:8080/"
        },
        "id": "RoRN8RuPjbVi",
        "outputId": "c3d95183-6813-494c-f69c-6bd8f1e3cd2a"
      },
      "execution_count": 11,
      "outputs": [
        {
          "output_type": "execute_result",
          "data": {
            "text/plain": [
              "no         2213\n",
              "yes         277\n",
              "unknown      81\n",
              "Name: Urban, dtype: int64"
            ]
          },
          "metadata": {},
          "execution_count": 11
        }
      ]
    },
    {
      "cell_type": "code",
      "source": [
        "#Sexo das vítimas\n",
        "dfChina['Sex'].value_counts()"
      ],
      "metadata": {
        "colab": {
          "base_uri": "https://localhost:8080/"
        },
        "id": "CQztHy8ShISO",
        "outputId": "1d936182-e7e7-4daf-9df5-1f8aff161207"
      },
      "execution_count": 12,
      "outputs": [
        {
          "output_type": "execute_result",
          "data": {
            "text/plain": [
              "female    1328\n",
              "male      1243\n",
              "Name: Sex, dtype: int64"
            ]
          },
          "metadata": {},
          "execution_count": 12
        }
      ]
    },
    {
      "cell_type": "code",
      "source": [
        "#Maior quantidade de suicídios por mês (junho)\n",
        "dfChina['Month'].value_counts()"
      ],
      "metadata": {
        "colab": {
          "base_uri": "https://localhost:8080/"
        },
        "id": "gBv6yzV6hQdg",
        "outputId": "d3a6ba0e-d66e-4bed-cc09-3cdcf8d0357e"
      },
      "execution_count": 13,
      "outputs": [
        {
          "output_type": "execute_result",
          "data": {
            "text/plain": [
              "6     284\n",
              "5     263\n",
              "7     247\n",
              "9     241\n",
              "8     229\n",
              "10    211\n",
              "2     208\n",
              "4     208\n",
              "1     201\n",
              "3     190\n",
              "11    153\n",
              "12    136\n",
              "Name: Month, dtype: int64"
            ]
          },
          "metadata": {},
          "execution_count": 13
        }
      ]
    },
    {
      "cell_type": "code",
      "source": [
        "#Trabalho que exerciam a maioria das vítimas \n",
        "dfChina['Occupation'].value_counts()"
      ],
      "metadata": {
        "colab": {
          "base_uri": "https://localhost:8080/"
        },
        "id": "SXXHuE7rjlni",
        "outputId": "62e9f7f4-384d-443c-b216-a24df48e847f"
      },
      "execution_count": 14,
      "outputs": [
        {
          "output_type": "execute_result",
          "data": {
            "text/plain": [
              "farming             2032\n",
              "household            248\n",
              "others/unknown       156\n",
              "professional          37\n",
              "student               35\n",
              "unemployed            30\n",
              "business/service      21\n",
              "worker                 6\n",
              "others                 3\n",
              "retiree                3\n",
              "Name: Occupation, dtype: int64"
            ]
          },
          "metadata": {},
          "execution_count": 14
        }
      ]
    },
    {
      "cell_type": "code",
      "source": [
        "#Qual foi o método da tentativa de suicídio?\n",
        "dfChina['method'].value_counts()"
      ],
      "metadata": {
        "colab": {
          "base_uri": "https://localhost:8080/"
        },
        "id": "gVA2cOXGj4Zo",
        "outputId": "35e044e3-ba15-4c94-dcc9-e6b2be07a867"
      },
      "execution_count": 15,
      "outputs": [
        {
          "output_type": "execute_result",
          "data": {
            "text/plain": [
              "Pesticide        1768\n",
              "Hanging           431\n",
              "Other poison      146\n",
              "Poison unspec     107\n",
              "unspecified        48\n",
              "Cutting            29\n",
              "Drowning           26\n",
              "Jumping            15\n",
              "Others              1\n",
              "Name: method, dtype: int64"
            ]
          },
          "metadata": {},
          "execution_count": 15
        }
      ]
    },
    {
      "cell_type": "code",
      "source": [
        "#Média de idade por ano \n",
        "dfGroupedAge = dfChina.groupby('Year')['Age'].mean().round(0)\n",
        "print(dfGroupedAge)"
      ],
      "metadata": {
        "colab": {
          "base_uri": "https://localhost:8080/"
        },
        "id": "u4FyUQEukleH",
        "outputId": "0ab9036c-2269-4e24-ebe8-cb42d0e831b5"
      },
      "execution_count": 16,
      "outputs": [
        {
          "output_type": "stream",
          "name": "stdout",
          "text": [
            "Year\n",
            "2009    53.0\n",
            "2010    53.0\n",
            "2011    52.0\n",
            "Name: Age, dtype: float64\n"
          ]
        }
      ]
    },
    {
      "cell_type": "code",
      "source": [
        "#Média de maior indice em mês por ano \n",
        "dfGroupedDeit = dfChina.groupby('Year')['Month'].mean().round(0)\n",
        "print(dfGroupedDeit)"
      ],
      "metadata": {
        "colab": {
          "base_uri": "https://localhost:8080/"
        },
        "id": "EF21awUEodX-",
        "outputId": "92de6744-43da-4b79-a072-9a105fdb71fb"
      },
      "execution_count": 17,
      "outputs": [
        {
          "output_type": "stream",
          "name": "stdout",
          "text": [
            "Year\n",
            "2009    6.0\n",
            "2010    6.0\n",
            "2011    6.0\n",
            "Name: Month, dtype: float64\n"
          ]
        }
      ]
    },
    {
      "cell_type": "markdown",
      "source": [
        "#VERIFICANDO A PRESENÇA DE VALORES AUSENTES"
      ],
      "metadata": {
        "id": "mwrPyQKEsLC4"
      }
    },
    {
      "cell_type": "code",
      "source": [
        "missingValues = dfChina['Hospitalised'].isnull().sum()\n",
        "print(missingValues)"
      ],
      "metadata": {
        "colab": {
          "base_uri": "https://localhost:8080/"
        },
        "id": "r6oguNy8psP9",
        "outputId": "ce4d222d-c336-475a-8c02-63dad8e6f3ea"
      },
      "execution_count": 18,
      "outputs": [
        {
          "output_type": "stream",
          "name": "stdout",
          "text": [
            "0\n"
          ]
        }
      ]
    },
    {
      "cell_type": "code",
      "source": [
        "missingValues = dfChina['Year'].isnull().sum()\n",
        "print(missingValues)"
      ],
      "metadata": {
        "colab": {
          "base_uri": "https://localhost:8080/"
        },
        "id": "Jb7zbYFGrdPL",
        "outputId": "b4df5036-a8f0-41d6-f1f6-7fee37bdb5dc"
      },
      "execution_count": 19,
      "outputs": [
        {
          "output_type": "stream",
          "name": "stdout",
          "text": [
            "0\n"
          ]
        }
      ]
    },
    {
      "cell_type": "code",
      "source": [
        "missingValues = dfChina['Month'].isnull().sum()\n",
        "print(missingValues)"
      ],
      "metadata": {
        "colab": {
          "base_uri": "https://localhost:8080/"
        },
        "id": "dw_uDIVXrwqY",
        "outputId": "51b49f9e-493c-4e95-de3c-94da934b1198"
      },
      "execution_count": 20,
      "outputs": [
        {
          "output_type": "stream",
          "name": "stdout",
          "text": [
            "0\n"
          ]
        }
      ]
    },
    {
      "cell_type": "code",
      "source": [
        "missingValues = dfChina['Urban'].isnull().sum()\n",
        "print(missingValues)"
      ],
      "metadata": {
        "colab": {
          "base_uri": "https://localhost:8080/"
        },
        "id": "Y6ZGM4qXrj4M",
        "outputId": "a4f66945-7690-4447-c0fe-2a274cbb375a"
      },
      "execution_count": 21,
      "outputs": [
        {
          "output_type": "stream",
          "name": "stdout",
          "text": [
            "0\n"
          ]
        }
      ]
    },
    {
      "cell_type": "code",
      "source": [
        "missingValues = dfChina['Died'].isnull().sum()\n",
        "print(missingValues)"
      ],
      "metadata": {
        "colab": {
          "base_uri": "https://localhost:8080/"
        },
        "id": "I2iF2K_hr4m_",
        "outputId": "df254c52-7ed0-4b95-b5a5-fbf06c43458a"
      },
      "execution_count": 22,
      "outputs": [
        {
          "output_type": "stream",
          "name": "stdout",
          "text": [
            "0\n"
          ]
        }
      ]
    },
    {
      "cell_type": "code",
      "source": [
        "dfChina['Age'].plot(kind='hist', bins=9, edgecolor='black', linewidth=0.5)\n",
        "plt.title('Idade das Vitimas')"
      ],
      "metadata": {
        "colab": {
          "base_uri": "https://localhost:8080/",
          "height": 469
        },
        "id": "F0H1rrD3sJnH",
        "outputId": "e6327176-3858-4d1b-e2ac-06d907c39c34"
      },
      "execution_count": 42,
      "outputs": [
        {
          "output_type": "execute_result",
          "data": {
            "text/plain": [
              "Text(0.5, 1.0, 'Idade das Vitimas')"
            ]
          },
          "metadata": {},
          "execution_count": 42
        },
        {
          "output_type": "display_data",
          "data": {
            "text/plain": [
              "<Figure size 640x480 with 1 Axes>"
            ],
            "image/png": "[encoded data removed]"
          },
          "metadata": {}
        }
      ]
    },
    {
      "cell_type": "code",
      "source": [
        "dfChina['Month'].plot(kind ='hist', bins= 20, edgecolor = 'black', linewidth = 0.5,)\n",
        "plt.title('Distribuição por Meses')"
      ],
      "metadata": {
        "colab": {
          "base_uri": "https://localhost:8080/",
          "height": 469
        },
        "id": "whuN1zBQmowc",
        "outputId": "3f17c866-b9d9-46eb-d9d3-31cd5f526b50"
      },
      "execution_count": 38,
      "outputs": [
        {
          "output_type": "execute_result",
          "data": {
            "text/plain": [
              "Text(0.5, 1.0, 'Distribuição por Meses')"
            ]
          },
          "metadata": {},
          "execution_count": 38
        },
        {
          "output_type": "display_data",
          "data": {
            "text/plain": [
              "<Figure size 640x480 with 1 Axes>"
            ],
            "image/png": "[encoded data removed]"
          },
          "metadata": {}
        }
      ]
    },
    {
      "cell_type": "code",
      "source": [
        "dfChina['Year'].value_counts().sort_index().plot(kind='bar')\n",
        "plt.title('Ocorrências por Ano')\n",
        "plt.xticks(rotation = 0)\n",
        "plt.show()"
      ],
      "metadata": {
        "colab": {
          "base_uri": "https://localhost:8080/",
          "height": 453
        },
        "id": "dflk4zgSm5cq",
        "outputId": "1f7ae5e3-4fc7-4246-a972-480f6bc4d9c5"
      },
      "execution_count": 70,
      "outputs": [
        {
          "output_type": "display_data",
          "data": {
            "text/plain": [
              "<Figure size 640x480 with 1 Axes>"
            ],
            "image/png": "[encoded data removed]"
          },
          "metadata": {}
        }
      ]
    },
    {
      "cell_type": "code",
      "source": [
        "plt.bar(dfChina['Sex'], dfChina['Age']) \n",
        "plt.title('Mortes por Sexo')"
      ],
      "metadata": {
        "colab": {
          "base_uri": "https://localhost:8080/",
          "height": 469
        },
        "id": "A_j4zLh5re0K",
        "outputId": "e61b37a1-c638-4537-bc62-163fd34abf62"
      },
      "execution_count": 74,
      "outputs": [
        {
          "output_type": "execute_result",
          "data": {
            "text/plain": [
              "Text(0.5, 1.0, 'Mortes por Sexo')"
            ]
          },
          "metadata": {},
          "execution_count": 74
        },
        {
          "output_type": "display_data",
          "data": {
            "text/plain": [
              "<Figure size 640x480 with 1 Axes>"
            ],
            "image/png": "[encoded data removed]"
          },
          "metadata": {}
        }
      ]
    },
    {
      "cell_type": "code",
      "source": [
        "#Filtrando os dados para o ano de 2009 \n",
        "df2009 = dfChina[dfChina['Year'] == 2009]\n",
        "\n",
        "#Obtendo os valores dos meses e do eixo y \n",
        "x = dfChina['Month']\n",
        "y = df_2009['column_name']\n",
        "\n",
        "#Criando o gráfico de linha \n",
        "plt.plot(x, y)\n",
        "\n",
        "#Adicionando rótulos aos eixos\n",
        "plt.xlabel('Mês')\n",
        "\n",
        "plt.show()"
      ],
      "metadata": {
        "colab": {
          "base_uri": "https://localhost:8080/",
          "height": 235
        },
        "id": "7D85sTOxymV9",
        "outputId": "299a5850-e8ef-4ed1-f786-06603e287dd8"
      },
      "execution_count": 80,
      "outputs": [
        {
          "output_type": "error",
          "ename": "NameError",
          "evalue": "ignored",
          "traceback": [
            "\u001b[0;31m---------------------------------------------------------------------------\u001b[0m",
            "\u001b[0;31mNameError\u001b[0m                                 Traceback (most recent call last)",
            "\u001b[0;32m<ipython-input-80-a68690c02bbc>\u001b[0m in \u001b[0;36m<cell line: 6>\u001b[0;34m()\u001b[0m\n\u001b[1;32m      4\u001b[0m \u001b[0;31m#Obtendo os valores dos meses e do eixo y\u001b[0m\u001b[0;34m\u001b[0m\u001b[0;34m\u001b[0m\u001b[0m\n\u001b[1;32m      5\u001b[0m \u001b[0mx\u001b[0m \u001b[0;34m=\u001b[0m \u001b[0mdfChina\u001b[0m\u001b[0;34m[\u001b[0m\u001b[0;34m'Month'\u001b[0m\u001b[0;34m]\u001b[0m\u001b[0;34m\u001b[0m\u001b[0;34m\u001b[0m\u001b[0m\n\u001b[0;32m----> 6\u001b[0;31m \u001b[0my\u001b[0m \u001b[0;34m=\u001b[0m \u001b[0mdf_2009\u001b[0m\u001b[0;34m[\u001b[0m\u001b[0;34m'column_name'\u001b[0m\u001b[0;34m]\u001b[0m\u001b[0;34m\u001b[0m\u001b[0;34m\u001b[0m\u001b[0m\n\u001b[0m\u001b[1;32m      7\u001b[0m \u001b[0;34m\u001b[0m\u001b[0m\n\u001b[1;32m      8\u001b[0m \u001b[0;31m#Criando o gráfico de linha\u001b[0m\u001b[0;34m\u001b[0m\u001b[0;34m\u001b[0m\u001b[0m\n",
            "\u001b[0;31mNameError\u001b[0m: name 'df_2009' is not defined"
          ]
        }
      ]
    }
  ]
}